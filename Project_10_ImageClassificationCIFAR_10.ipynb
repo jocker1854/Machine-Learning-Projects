{
  "nbformat": 4,
  "nbformat_minor": 0,
  "metadata": {
    "colab": {
      "provenance": [],
      "gpuType": "T4",
      "authorship_tag": "ABX9TyPCK7junCPwnH69nmFSIYjS",
      "include_colab_link": true
    },
    "kernelspec": {
      "name": "python3",
      "display_name": "Python 3"
    },
    "language_info": {
      "name": "python"
    },
    "accelerator": "GPU"
  },
  "cells": [
    {
      "cell_type": "markdown",
      "metadata": {
        "id": "view-in-github",
        "colab_type": "text"
      },
      "source": [
        "<a href=\"https://colab.research.google.com/github/jocker1854/Machine-Learning-Projects/blob/main/Project_10_ImageClassificationCIFAR_10.ipynb\" target=\"_parent\"><img src=\"https://colab.research.google.com/assets/colab-badge.svg\" alt=\"Open In Colab\"/></a>"
      ]
    },
    {
      "cell_type": "code",
      "execution_count": 1,
      "metadata": {
        "id": "fi3x5QicTf_i"
      },
      "outputs": [],
      "source": [
        "import torch\n",
        "import torch.nn as nn\n",
        "import torch.nn.functional as F\n",
        "import torch.optim as optim\n",
        "import torchvision\n",
        "import torchvision.transforms as transforms"
      ]
    },
    {
      "cell_type": "markdown",
      "source": [
        "### Transforms"
      ],
      "metadata": {
        "id": "fLOdeG1xUxCD"
      }
    },
    {
      "cell_type": "code",
      "source": [
        "# Transform: Normalize images between -1 and 1\n",
        "transform = transforms.Compose([\n",
        "    transforms.ToTensor(),\n",
        "    transforms.Normalize((0.5, 0.5, 0.5), (0.5, 0.5, 0.5))\n",
        "])"
      ],
      "metadata": {
        "id": "BX2M0Ck6USt0"
      },
      "execution_count": 2,
      "outputs": []
    },
    {
      "cell_type": "markdown",
      "source": [
        "### Downloading Data"
      ],
      "metadata": {
        "id": "T_vq1FbZU0f1"
      }
    },
    {
      "cell_type": "code",
      "source": [
        "# Download training and test data\n",
        "trainset = torchvision.datasets.CIFAR10(root='./data', train=True,\n",
        "                                        download=True, transform=transform)\n",
        "trainloader = torch.utils.data.DataLoader(trainset, batch_size=64,\n",
        "                                          shuffle=True)"
      ],
      "metadata": {
        "colab": {
          "base_uri": "https://localhost:8080/"
        },
        "id": "R7fZPebeUXRH",
        "outputId": "bd74a385-2bf2-42ec-e7a9-aab3367db315"
      },
      "execution_count": 3,
      "outputs": [
        {
          "output_type": "stream",
          "name": "stderr",
          "text": [
            "100%|██████████| 170M/170M [00:13<00:00, 13.0MB/s]\n"
          ]
        }
      ]
    },
    {
      "cell_type": "code",
      "source": [
        "testset = torchvision.datasets.CIFAR10(root='./data', train=False,\n",
        "                                       download=True, transform=transform)\n",
        "testloader = torch.utils.data.DataLoader(testset, batch_size=64,\n",
        "                                         shuffle=False)"
      ],
      "metadata": {
        "id": "2RDFo-_aUeHE"
      },
      "execution_count": 4,
      "outputs": []
    },
    {
      "cell_type": "code",
      "source": [
        "trainset = torchvision.datasets.CIFAR10(root='./data', train=True,\n",
        "                                        download=True, transform=transform)"
      ],
      "metadata": {
        "id": "AGIS75CDUQmS"
      },
      "execution_count": 6,
      "outputs": []
    },
    {
      "cell_type": "markdown",
      "source": [
        "### Defining Classes"
      ],
      "metadata": {
        "id": "Zfjhq1EbU43B"
      }
    },
    {
      "cell_type": "code",
      "source": [
        "classes = trainset.classes"
      ],
      "metadata": {
        "id": "xTFwypbdUp3l"
      },
      "execution_count": 7,
      "outputs": []
    },
    {
      "cell_type": "markdown",
      "source": [
        "### Creating the model archiecture"
      ],
      "metadata": {
        "id": "2wUnweCTU9_t"
      }
    },
    {
      "cell_type": "code",
      "source": [
        "class CNN(nn.Module):\n",
        "    def __init__(self):\n",
        "        super(CNN, self).__init__()\n",
        "        self.conv1 = nn.Conv2d(3, 32, 3, padding=1)\n",
        "        self.conv2 = nn.Conv2d(32, 64, 3, padding=1)\n",
        "        self.pool = nn.MaxPool2d(2, 2)\n",
        "        self.fc1 = nn.Linear(64 * 8 * 8, 512)\n",
        "        self.fc2 = nn.Linear(512, 10)\n",
        "\n",
        "    def forward(self, x):\n",
        "        x = self.pool(F.relu(self.conv1(x)))\n",
        "        x = self.pool(F.relu(self.conv2(x)))\n",
        "        x = x.view(-1, 64 * 8 * 8)\n",
        "        x = F.relu(self.fc1(x))\n",
        "        x = self.fc2(x)\n",
        "        return x"
      ],
      "metadata": {
        "id": "SK0Cp5khUAv4"
      },
      "execution_count": 11,
      "outputs": []
    },
    {
      "cell_type": "code",
      "source": [
        "device = torch.device(\"cuda\" if torch.cuda.is_available() else \"cpu\")\n",
        "model = CNN().to(device)"
      ],
      "metadata": {
        "id": "LNV4O6LtVLcw"
      },
      "execution_count": 12,
      "outputs": []
    },
    {
      "cell_type": "markdown",
      "source": [
        "### Training the model"
      ],
      "metadata": {
        "id": "Mwl795ppVZKj"
      }
    },
    {
      "cell_type": "code",
      "source": [
        "criterion = nn.CrossEntropyLoss()\n",
        "optimizer = optim.Adam(model.parameters(), lr=0.001)"
      ],
      "metadata": {
        "id": "AvuwMCnIWOvE"
      },
      "execution_count": null,
      "outputs": []
    },
    {
      "cell_type": "code",
      "source": [
        "epochs = 10"
      ],
      "metadata": {
        "id": "iVoNPjZsWTAh"
      },
      "execution_count": null,
      "outputs": []
    },
    {
      "cell_type": "code",
      "source": [
        "\n",
        "\n",
        "for epoch in range(epochs):  # loop over the dataset multiple times\n",
        "    running_loss = 0.0\n",
        "    for batch, (images, labels) in enumerate(trainloader):\n",
        "        images, labels = images.to(device), labels.to(device)\n",
        "\n",
        "        optimizer.zero_grad()\n",
        "        outputs = model(images)\n",
        "        loss = criterion(outputs, labels)\n",
        "        loss.backward()\n",
        "        optimizer.step()\n",
        "\n",
        "        running_loss += loss.item()\n",
        "        if batch % 100 == 0:    # print every 100 mini-batches\n",
        "          print(f\"Epoch {epoch+1}, Batch: {batch} Loss: {running_loss / len(trainloader):.3f}\")\n"
      ],
      "metadata": {
        "colab": {
          "base_uri": "https://localhost:8080/"
        },
        "id": "wWdfq7hGVWxI",
        "outputId": "52e45528-205a-45ee-a927-ef354e9ad6e7"
      },
      "execution_count": 14,
      "outputs": [
        {
          "output_type": "stream",
          "name": "stdout",
          "text": [
            "Epoch 1, Batch: 0 Loss: 0.001\n",
            "Epoch 1, Batch: 100 Loss: 0.108\n",
            "Epoch 1, Batch: 200 Loss: 0.214\n",
            "Epoch 1, Batch: 300 Loss: 0.318\n",
            "Epoch 1, Batch: 400 Loss: 0.422\n",
            "Epoch 1, Batch: 500 Loss: 0.525\n",
            "Epoch 1, Batch: 600 Loss: 0.631\n",
            "Epoch 1, Batch: 700 Loss: 0.731\n",
            "Epoch 2, Batch: 0 Loss: 0.001\n",
            "Epoch 2, Batch: 100 Loss: 0.082\n",
            "Epoch 2, Batch: 200 Loss: 0.162\n",
            "Epoch 2, Batch: 300 Loss: 0.242\n",
            "Epoch 2, Batch: 400 Loss: 0.321\n",
            "Epoch 2, Batch: 500 Loss: 0.399\n",
            "Epoch 2, Batch: 600 Loss: 0.481\n",
            "Epoch 2, Batch: 700 Loss: 0.565\n",
            "Epoch 3, Batch: 0 Loss: 0.000\n",
            "Epoch 3, Batch: 100 Loss: 0.058\n",
            "Epoch 3, Batch: 200 Loss: 0.113\n",
            "Epoch 3, Batch: 300 Loss: 0.174\n",
            "Epoch 3, Batch: 400 Loss: 0.234\n",
            "Epoch 3, Batch: 500 Loss: 0.294\n",
            "Epoch 3, Batch: 600 Loss: 0.357\n",
            "Epoch 3, Batch: 700 Loss: 0.419\n",
            "Epoch 4, Batch: 0 Loss: 0.000\n",
            "Epoch 4, Batch: 100 Loss: 0.039\n",
            "Epoch 4, Batch: 200 Loss: 0.077\n",
            "Epoch 4, Batch: 300 Loss: 0.116\n",
            "Epoch 4, Batch: 400 Loss: 0.157\n",
            "Epoch 4, Batch: 500 Loss: 0.201\n",
            "Epoch 4, Batch: 600 Loss: 0.243\n",
            "Epoch 4, Batch: 700 Loss: 0.286\n",
            "Epoch 5, Batch: 0 Loss: 0.000\n",
            "Epoch 5, Batch: 100 Loss: 0.025\n",
            "Epoch 5, Batch: 200 Loss: 0.048\n",
            "Epoch 5, Batch: 300 Loss: 0.074\n",
            "Epoch 5, Batch: 400 Loss: 0.098\n",
            "Epoch 5, Batch: 500 Loss: 0.125\n",
            "Epoch 5, Batch: 600 Loss: 0.153\n",
            "Epoch 5, Batch: 700 Loss: 0.182\n",
            "Epoch 6, Batch: 0 Loss: 0.000\n",
            "Epoch 6, Batch: 100 Loss: 0.014\n",
            "Epoch 6, Batch: 200 Loss: 0.029\n",
            "Epoch 6, Batch: 300 Loss: 0.043\n",
            "Epoch 6, Batch: 400 Loss: 0.058\n",
            "Epoch 6, Batch: 500 Loss: 0.073\n",
            "Epoch 6, Batch: 600 Loss: 0.091\n",
            "Epoch 6, Batch: 700 Loss: 0.110\n",
            "Epoch 7, Batch: 0 Loss: 0.000\n",
            "Epoch 7, Batch: 100 Loss: 0.010\n",
            "Epoch 7, Batch: 200 Loss: 0.021\n",
            "Epoch 7, Batch: 300 Loss: 0.031\n",
            "Epoch 7, Batch: 400 Loss: 0.043\n",
            "Epoch 7, Batch: 500 Loss: 0.055\n",
            "Epoch 7, Batch: 600 Loss: 0.068\n",
            "Epoch 7, Batch: 700 Loss: 0.082\n",
            "Epoch 8, Batch: 0 Loss: 0.000\n",
            "Epoch 8, Batch: 100 Loss: 0.008\n",
            "Epoch 8, Batch: 200 Loss: 0.015\n",
            "Epoch 8, Batch: 300 Loss: 0.022\n",
            "Epoch 8, Batch: 400 Loss: 0.029\n",
            "Epoch 8, Batch: 500 Loss: 0.038\n",
            "Epoch 8, Batch: 600 Loss: 0.047\n",
            "Epoch 8, Batch: 700 Loss: 0.058\n",
            "Epoch 9, Batch: 0 Loss: 0.000\n",
            "Epoch 9, Batch: 100 Loss: 0.006\n",
            "Epoch 9, Batch: 200 Loss: 0.012\n",
            "Epoch 9, Batch: 300 Loss: 0.019\n",
            "Epoch 9, Batch: 400 Loss: 0.028\n",
            "Epoch 9, Batch: 500 Loss: 0.038\n",
            "Epoch 9, Batch: 600 Loss: 0.048\n",
            "Epoch 9, Batch: 700 Loss: 0.060\n",
            "Epoch 10, Batch: 0 Loss: 0.000\n",
            "Epoch 10, Batch: 100 Loss: 0.008\n",
            "Epoch 10, Batch: 200 Loss: 0.012\n",
            "Epoch 10, Batch: 300 Loss: 0.018\n",
            "Epoch 10, Batch: 400 Loss: 0.024\n",
            "Epoch 10, Batch: 500 Loss: 0.032\n",
            "Epoch 10, Batch: 600 Loss: 0.042\n",
            "Epoch 10, Batch: 700 Loss: 0.052\n"
          ]
        }
      ]
    },
    {
      "cell_type": "code",
      "source": [
        "import matplotlib.pyplot as plt\n",
        "import numpy as np"
      ],
      "metadata": {
        "id": "4PhIIjcUW_eS"
      },
      "execution_count": 16,
      "outputs": []
    },
    {
      "cell_type": "code",
      "source": [
        "def imshow(img):\n",
        "    img = img / 2 + 0.5  # unnormalize from [-1, 1] to [0, 1]\n",
        "    npimg = img.numpy()\n",
        "    plt.imshow(np.transpose(npimg, (1, 2, 0)))\n",
        "    plt.axis(\"off\")\n",
        "    plt.show()"
      ],
      "metadata": {
        "id": "7dsDT2aGW8_V"
      },
      "execution_count": 15,
      "outputs": []
    },
    {
      "cell_type": "markdown",
      "source": [
        "### Visualizing the Predictions"
      ],
      "metadata": {
        "id": "xxm2JwWsXwNH"
      }
    },
    {
      "cell_type": "code",
      "source": [
        "import torch.nn.functional as F\n",
        "\n",
        "# Get a batch of test images\n",
        "dataiter = iter(testloader)\n",
        "images, labels = next(dataiter)\n",
        "images, labels = images.to(device), labels.to(device)\n",
        "\n",
        "# Get model predictions and softmax probabilities\n",
        "model.eval()\n",
        "with torch.no_grad():\n",
        "    outputs = model(images)\n",
        "    probabilities = F.softmax(outputs, dim=1)\n",
        "    confidences, predicted = torch.max(probabilities, 1)\n",
        "\n",
        "# Move to CPU for visualization\n",
        "images = images.cpu()\n",
        "labels = labels.cpu()\n",
        "predicted = predicted.cpu()\n",
        "confidences = confidences.cpu()\n",
        "\n",
        "# Show 8 images in a grid\n",
        "imshow(torchvision.utils.make_grid(images[:8]))\n",
        "\n",
        "# Print results\n",
        "for i in range(8):\n",
        "    gt = classes[labels[i]]\n",
        "    pred = classes[predicted[i]]\n",
        "    conf = confidences[i].item() * 100\n",
        "    print(f'Image {i+1}: GT = {gt:<10} | Pred = {pred:<10} | Confidence = {conf:.2f}%')\n"
      ],
      "metadata": {
        "colab": {
          "base_uri": "https://localhost:8080/",
          "height": 241
        },
        "id": "flQHGgD6W-4P",
        "outputId": "10cdac20-7b9d-41a7-eb7d-eeac7daa7e5c"
      },
      "execution_count": 19,
      "outputs": [
        {
          "output_type": "display_data",
          "data": {
            "text/plain": [
              "<Figure size 640x480 with 1 Axes>"
            ],
            "image/png": "[encoded data removed]"
          },
          "metadata": {}
        },
        {
          "output_type": "stream",
          "name": "stdout",
          "text": [
            "Image 1: GT = cat        | Pred = cat        | Confidence = 99.86%\n",
            "Image 2: GT = ship       | Pred = ship       | Confidence = 100.00%\n",
            "Image 3: GT = ship       | Pred = ship       | Confidence = 83.75%\n",
            "Image 4: GT = airplane   | Pred = airplane   | Confidence = 98.43%\n",
            "Image 5: GT = frog       | Pred = frog       | Confidence = 98.89%\n",
            "Image 6: GT = frog       | Pred = frog       | Confidence = 100.00%\n",
            "Image 7: GT = automobile | Pred = automobile | Confidence = 100.00%\n",
            "Image 8: GT = frog       | Pred = deer       | Confidence = 87.95%\n"
          ]
        }
      ]
    }
  ]
}