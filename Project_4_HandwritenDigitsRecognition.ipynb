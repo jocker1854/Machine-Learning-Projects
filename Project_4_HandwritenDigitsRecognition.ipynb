{
  "nbformat": 4,
  "nbformat_minor": 0,
  "metadata": {
    "colab": {
      "provenance": [],
      "authorship_tag": "ABX9TyP7bEu9omyJOakIXFfU8ARG",
      "include_colab_link": true
    },
    "kernelspec": {
      "name": "python3",
      "display_name": "Python 3"
    },
    "language_info": {
      "name": "python"
    }
  },
  "cells": [
    {
      "cell_type": "markdown",
      "metadata": {
        "id": "view-in-github",
        "colab_type": "text"
      },
      "source": [
        "<a href=\"https://colab.research.google.com/github/jocker1854/Machine-Learning-Projects/blob/main/Project_4_HandwritenDigitsRecognition.ipynb\" target=\"_parent\"><img src=\"https://colab.research.google.com/assets/colab-badge.svg\" alt=\"Open In Colab\"/></a>"
      ]
    },
    {
      "cell_type": "code",
      "execution_count": 2,
      "metadata": {
        "id": "UWu9Vva_SUnh"
      },
      "outputs": [],
      "source": [
        "import torch\n",
        "import torch.nn as nn\n",
        "import torch.nn.functional as F"
      ]
    },
    {
      "cell_type": "code",
      "source": [
        "from torchvision import datasets\n",
        "from torchvision.transforms import ToTensor"
      ],
      "metadata": {
        "id": "5L0kElKPUAqH"
      },
      "execution_count": 3,
      "outputs": []
    },
    {
      "cell_type": "code",
      "source": [
        "train_data = datasets.MNIST(root='data', train=True, download=True, transform=ToTensor())\n",
        "test_data = datasets.MNIST(root='data', train=False, download=True, transform=ToTensor())"
      ],
      "metadata": {
        "colab": {
          "base_uri": "https://localhost:8080/"
        },
        "id": "87bcpGKJURAj",
        "outputId": "7ced0848-17cd-4a1c-f8bb-54b7d9725828"
      },
      "execution_count": 4,
      "outputs": [
        {
          "output_type": "stream",
          "name": "stderr",
          "text": [
            "100%|██████████| 9.91M/9.91M [00:00<00:00, 16.1MB/s]\n",
            "100%|██████████| 28.9k/28.9k [00:00<00:00, 482kB/s]\n",
            "100%|██████████| 1.65M/1.65M [00:00<00:00, 4.42MB/s]\n",
            "100%|██████████| 4.54k/4.54k [00:00<00:00, 4.96MB/s]\n"
          ]
        }
      ]
    },
    {
      "cell_type": "code",
      "source": [
        "from torch.utils.data import DataLoader\n",
        "\n",
        "loaders = {\n",
        "    'train': DataLoader(train_data,\n",
        "                        batch_size=100,\n",
        "                        shuffle=True,\n",
        "                        num_workers=1),\n",
        "    'test': DataLoader(test_data,\n",
        "                       batch_size=100,\n",
        "                       shuffle=False,\n",
        "                       num_workers=1),\n",
        "    }"
      ],
      "metadata": {
        "id": "ZDXeZbsDUoH6"
      },
      "execution_count": 10,
      "outputs": []
    },
    {
      "cell_type": "code",
      "source": [
        "loaders"
      ],
      "metadata": {
        "colab": {
          "base_uri": "https://localhost:8080/"
        },
        "id": "Lgr0Nnd5V2Q_",
        "outputId": "b235c7e5-99e3-466c-bab9-9e4b53605a5e"
      },
      "execution_count": 11,
      "outputs": [
        {
          "output_type": "execute_result",
          "data": {
            "text/plain": [
              "{'train': <torch.utils.data.dataloader.DataLoader at 0x7cb743756350>,\n",
              " 'test': <torch.utils.data.dataloader.DataLoader at 0x7cb662803c50>}"
            ]
          },
          "metadata": {},
          "execution_count": 11
        }
      ]
    },
    {
      "cell_type": "code",
      "source": [],
      "metadata": {
        "id": "nGKV491kWt9s"
      },
      "execution_count": null,
      "outputs": []
    },
    {
      "cell_type": "code",
      "source": [
        "import torch\n",
        "import torch.nn as nn\n",
        "import torch.nn.functional as F\n",
        "import torch.optim as optim\n",
        "\n",
        "class CNN(nn.Module):\n",
        "    def __init__(self):\n",
        "        super(CNN, self).__init__()\n",
        "        self.conv1 = nn.Conv2d(in_channels=1, out_channels=10, kernel_size=5)\n",
        "        self.conv2 = nn.Conv2d(in_channels=10, out_channels=20, kernel_size=5)\n",
        "        self.dropout = nn.Dropout2d()\n",
        "        self.fc1 = nn.Linear(in_features=320, out_features=50)\n",
        "        self.fc2 = nn.Linear(in_features=50, out_features=10)\n",
        "\n",
        "    def forward(self, x):\n",
        "        x = F.relu(F.max_pool2d(self.conv1(x), 2))\n",
        "        x = F.relu(F.max_pool2d(self.dropout(self.conv2(x)), 2))\n",
        "        x = x.view(-1, 320)\n",
        "        x = F.relu(self.fc1(x))\n",
        "        x = F.dropout(x, training=self.training)\n",
        "        x = self.fc2(x)\n",
        "        return F.softmax(x, dim=1)"
      ],
      "metadata": {
        "id": "sK7Xxd9BSuoU"
      },
      "execution_count": 20,
      "outputs": []
    },
    {
      "cell_type": "code",
      "source": [
        "import torch\n",
        "\n",
        "device = torch.device(\"cuda\" if torch.cuda.is_available() else \"cpu\")\n",
        "model = CNN().to(device)\n",
        "optimizer = optim.Adam(model.parameters(), lr=0.001)\n",
        "loss_fn = nn.CrossEntropyLoss()"
      ],
      "metadata": {
        "id": "31u_xUvrYDWi"
      },
      "execution_count": 21,
      "outputs": []
    },
    {
      "cell_type": "code",
      "source": [
        "def train(epoch):\n",
        "  model.train()\n",
        "  for batch_idx, (data, targets) in enumerate(loaders['train']):\n",
        "    data, targets = data.to(device), targets.to(device)\n",
        "    optimizer.zero_grad()\n",
        "    output = model(data)\n",
        "    loss = loss_fn(output, targets)\n",
        "    loss.backward()\n",
        "    optimizer.step()\n",
        "    if batch_idx % 20 == 0:\n",
        "      print(f'Train Epoch: {epoch} [{batch_idx * len(data)}/{len(loaders[\"train\"].dataset)} ({100. * batch_idx / len(loaders[\"train\"]):.0f}%)]\\tLoss: {loss.item():.6f}')"
      ],
      "metadata": {
        "id": "sRlm-aClYNAb"
      },
      "execution_count": 22,
      "outputs": []
    },
    {
      "cell_type": "code",
      "source": [
        "def test():\n",
        "  model.eval()\n",
        "\n",
        "  test_loss = 0\n",
        "  correct = 0\n",
        "\n",
        "  with torch.no_grad():\n",
        "    for data, targets in loaders['test']:\n",
        "      data, targets = data.to(device), targets.to(device)\n",
        "      output = model(data)\n",
        "      test_loss += loss_fn(output, targets).item()\n",
        "      pred = output.argmax(1, keepdim=True)\n",
        "      correct += pred.eq(targets.data.view_as(pred)).sum().item()\n",
        "\n",
        "  test_loss /= len(loaders['test'].dataset)\n",
        "  print(f'Test set: Average loss: {test_loss:.4f}, Accuracy: {correct}/{len(loaders[\"test\"].dataset)} ({100. * correct / len(loaders[\"test\"].dataset):.0f}%)\\n')"
      ],
      "metadata": {
        "id": "kRrcHcTiaZUw"
      },
      "execution_count": 23,
      "outputs": []
    },
    {
      "cell_type": "code",
      "source": [
        "for epoch in range(1, 10):\n",
        "  train(epoch)\n",
        "  test()"
      ],
      "metadata": {
        "colab": {
          "base_uri": "https://localhost:8080/",
          "height": 1000
        },
        "id": "xZHn6f_2a7zq",
        "outputId": "d43d586e-386c-48e4-9a19-302a541a5625"
      },
      "execution_count": 24,
      "outputs": [
        {
          "output_type": "stream",
          "name": "stdout",
          "text": [
            "Train Epoch: 1 [0/60000 (0%)]\tLoss: 2.303479\n",
            "Train Epoch: 1 [2000/60000 (3%)]\tLoss: 2.293327\n",
            "Train Epoch: 1 [4000/60000 (7%)]\tLoss: 2.170327\n",
            "Train Epoch: 1 [6000/60000 (10%)]\tLoss: 2.014255\n",
            "Train Epoch: 1 [8000/60000 (13%)]\tLoss: 1.892732\n",
            "Train Epoch: 1 [10000/60000 (17%)]\tLoss: 1.763484\n",
            "Train Epoch: 1 [12000/60000 (20%)]\tLoss: 1.803308\n",
            "Train Epoch: 1 [14000/60000 (23%)]\tLoss: 1.752465\n",
            "Train Epoch: 1 [16000/60000 (27%)]\tLoss: 1.736208\n",
            "Train Epoch: 1 [18000/60000 (30%)]\tLoss: 1.680120\n",
            "Train Epoch: 1 [20000/60000 (33%)]\tLoss: 1.617347\n",
            "Train Epoch: 1 [22000/60000 (37%)]\tLoss: 1.718282\n",
            "Train Epoch: 1 [24000/60000 (40%)]\tLoss: 1.684335\n",
            "Train Epoch: 1 [26000/60000 (43%)]\tLoss: 1.617519\n",
            "Train Epoch: 1 [28000/60000 (47%)]\tLoss: 1.652610\n",
            "Train Epoch: 1 [30000/60000 (50%)]\tLoss: 1.625243\n",
            "Train Epoch: 1 [32000/60000 (53%)]\tLoss: 1.609967\n",
            "Train Epoch: 1 [34000/60000 (57%)]\tLoss: 1.629511\n",
            "Train Epoch: 1 [36000/60000 (60%)]\tLoss: 1.643173\n",
            "Train Epoch: 1 [38000/60000 (63%)]\tLoss: 1.605441\n",
            "Train Epoch: 1 [40000/60000 (67%)]\tLoss: 1.582532\n",
            "Train Epoch: 1 [42000/60000 (70%)]\tLoss: 1.601920\n",
            "Train Epoch: 1 [44000/60000 (73%)]\tLoss: 1.629219\n",
            "Train Epoch: 1 [46000/60000 (77%)]\tLoss: 1.534876\n",
            "Train Epoch: 1 [48000/60000 (80%)]\tLoss: 1.626174\n",
            "Train Epoch: 1 [50000/60000 (83%)]\tLoss: 1.620129\n",
            "Train Epoch: 1 [52000/60000 (87%)]\tLoss: 1.638966\n",
            "Train Epoch: 1 [54000/60000 (90%)]\tLoss: 1.572989\n",
            "Train Epoch: 1 [56000/60000 (93%)]\tLoss: 1.578634\n",
            "Train Epoch: 1 [58000/60000 (97%)]\tLoss: 1.643902\n",
            "Test set: Average loss: 0.0152, Accuracy: 9389/10000 (94%)\n",
            "\n",
            "Train Epoch: 2 [0/60000 (0%)]\tLoss: 1.633961\n",
            "Train Epoch: 2 [2000/60000 (3%)]\tLoss: 1.556518\n",
            "Train Epoch: 2 [4000/60000 (7%)]\tLoss: 1.541345\n",
            "Train Epoch: 2 [6000/60000 (10%)]\tLoss: 1.617448\n",
            "Train Epoch: 2 [8000/60000 (13%)]\tLoss: 1.566361\n",
            "Train Epoch: 2 [10000/60000 (17%)]\tLoss: 1.555118\n",
            "Train Epoch: 2 [12000/60000 (20%)]\tLoss: 1.571419\n",
            "Train Epoch: 2 [14000/60000 (23%)]\tLoss: 1.556131\n",
            "Train Epoch: 2 [16000/60000 (27%)]\tLoss: 1.546159\n",
            "Train Epoch: 2 [18000/60000 (30%)]\tLoss: 1.580563\n",
            "Train Epoch: 2 [20000/60000 (33%)]\tLoss: 1.580980\n",
            "Train Epoch: 2 [22000/60000 (37%)]\tLoss: 1.615764\n",
            "Train Epoch: 2 [24000/60000 (40%)]\tLoss: 1.625231\n",
            "Train Epoch: 2 [26000/60000 (43%)]\tLoss: 1.551823\n",
            "Train Epoch: 2 [28000/60000 (47%)]\tLoss: 1.595195\n",
            "Train Epoch: 2 [30000/60000 (50%)]\tLoss: 1.564872\n",
            "Train Epoch: 2 [32000/60000 (53%)]\tLoss: 1.575034\n",
            "Train Epoch: 2 [34000/60000 (57%)]\tLoss: 1.622908\n",
            "Train Epoch: 2 [36000/60000 (60%)]\tLoss: 1.590700\n",
            "Train Epoch: 2 [38000/60000 (63%)]\tLoss: 1.599313\n",
            "Train Epoch: 2 [40000/60000 (67%)]\tLoss: 1.528656\n",
            "Train Epoch: 2 [42000/60000 (70%)]\tLoss: 1.549896\n",
            "Train Epoch: 2 [44000/60000 (73%)]\tLoss: 1.513264\n",
            "Train Epoch: 2 [46000/60000 (77%)]\tLoss: 1.618564\n",
            "Train Epoch: 2 [48000/60000 (80%)]\tLoss: 1.583195\n",
            "Train Epoch: 2 [50000/60000 (83%)]\tLoss: 1.577552\n",
            "Train Epoch: 2 [52000/60000 (87%)]\tLoss: 1.550202\n",
            "Train Epoch: 2 [54000/60000 (90%)]\tLoss: 1.530084\n",
            "Train Epoch: 2 [56000/60000 (93%)]\tLoss: 1.541746\n",
            "Train Epoch: 2 [58000/60000 (97%)]\tLoss: 1.545429\n",
            "Test set: Average loss: 0.0151, Accuracy: 9549/10000 (95%)\n",
            "\n",
            "Train Epoch: 3 [0/60000 (0%)]\tLoss: 1.522977\n",
            "Train Epoch: 3 [2000/60000 (3%)]\tLoss: 1.568288\n",
            "Train Epoch: 3 [4000/60000 (7%)]\tLoss: 1.571243\n",
            "Train Epoch: 3 [6000/60000 (10%)]\tLoss: 1.588109\n",
            "Train Epoch: 3 [8000/60000 (13%)]\tLoss: 1.584349\n",
            "Train Epoch: 3 [10000/60000 (17%)]\tLoss: 1.578993\n",
            "Train Epoch: 3 [12000/60000 (20%)]\tLoss: 1.548439\n",
            "Train Epoch: 3 [14000/60000 (23%)]\tLoss: 1.543528\n",
            "Train Epoch: 3 [16000/60000 (27%)]\tLoss: 1.551648\n",
            "Train Epoch: 3 [18000/60000 (30%)]\tLoss: 1.505961\n",
            "Train Epoch: 3 [20000/60000 (33%)]\tLoss: 1.534411\n",
            "Train Epoch: 3 [22000/60000 (37%)]\tLoss: 1.536446\n",
            "Train Epoch: 3 [24000/60000 (40%)]\tLoss: 1.548462\n",
            "Train Epoch: 3 [26000/60000 (43%)]\tLoss: 1.548010\n",
            "Train Epoch: 3 [28000/60000 (47%)]\tLoss: 1.552809\n",
            "Train Epoch: 3 [30000/60000 (50%)]\tLoss: 1.548510\n",
            "Train Epoch: 3 [32000/60000 (53%)]\tLoss: 1.532294\n",
            "Train Epoch: 3 [34000/60000 (57%)]\tLoss: 1.547268\n",
            "Train Epoch: 3 [36000/60000 (60%)]\tLoss: 1.504640\n",
            "Train Epoch: 3 [38000/60000 (63%)]\tLoss: 1.547560\n",
            "Train Epoch: 3 [40000/60000 (67%)]\tLoss: 1.569609\n",
            "Train Epoch: 3 [42000/60000 (70%)]\tLoss: 1.585970\n",
            "Train Epoch: 3 [44000/60000 (73%)]\tLoss: 1.550956\n",
            "Train Epoch: 3 [46000/60000 (77%)]\tLoss: 1.566589\n",
            "Train Epoch: 3 [48000/60000 (80%)]\tLoss: 1.552626\n",
            "Train Epoch: 3 [50000/60000 (83%)]\tLoss: 1.546697\n",
            "Train Epoch: 3 [52000/60000 (87%)]\tLoss: 1.521832\n",
            "Train Epoch: 3 [54000/60000 (90%)]\tLoss: 1.597202\n",
            "Train Epoch: 3 [56000/60000 (93%)]\tLoss: 1.572626\n",
            "Train Epoch: 3 [58000/60000 (97%)]\tLoss: 1.575548\n",
            "Test set: Average loss: 0.0150, Accuracy: 9630/10000 (96%)\n",
            "\n",
            "Train Epoch: 4 [0/60000 (0%)]\tLoss: 1.516001\n",
            "Train Epoch: 4 [2000/60000 (3%)]\tLoss: 1.552609\n",
            "Train Epoch: 4 [4000/60000 (7%)]\tLoss: 1.566115\n",
            "Train Epoch: 4 [6000/60000 (10%)]\tLoss: 1.557002\n",
            "Train Epoch: 4 [8000/60000 (13%)]\tLoss: 1.573287\n",
            "Train Epoch: 4 [10000/60000 (17%)]\tLoss: 1.537993\n",
            "Train Epoch: 4 [12000/60000 (20%)]\tLoss: 1.526889\n",
            "Train Epoch: 4 [14000/60000 (23%)]\tLoss: 1.556970\n",
            "Train Epoch: 4 [16000/60000 (27%)]\tLoss: 1.519045\n",
            "Train Epoch: 4 [18000/60000 (30%)]\tLoss: 1.519210\n"
          ]
        },
        {
          "output_type": "error",
          "ename": "KeyboardInterrupt",
          "evalue": "",
          "traceback": [
            "\u001b[0;31m---------------------------------------------------------------------------\u001b[0m",
            "\u001b[0;31mKeyboardInterrupt\u001b[0m                         Traceback (most recent call last)",
            "\u001b[0;32m<ipython-input-24-a8c428eb9972>\u001b[0m in \u001b[0;36m<cell line: 0>\u001b[0;34m()\u001b[0m\n\u001b[1;32m      1\u001b[0m \u001b[0;32mfor\u001b[0m \u001b[0mepoch\u001b[0m \u001b[0;32min\u001b[0m \u001b[0mrange\u001b[0m\u001b[0;34m(\u001b[0m\u001b[0;36m1\u001b[0m\u001b[0;34m,\u001b[0m \u001b[0;36m10\u001b[0m\u001b[0;34m)\u001b[0m\u001b[0;34m:\u001b[0m\u001b[0;34m\u001b[0m\u001b[0;34m\u001b[0m\u001b[0m\n\u001b[0;32m----> 2\u001b[0;31m   \u001b[0mtrain\u001b[0m\u001b[0;34m(\u001b[0m\u001b[0mepoch\u001b[0m\u001b[0;34m)\u001b[0m\u001b[0;34m\u001b[0m\u001b[0;34m\u001b[0m\u001b[0m\n\u001b[0m\u001b[1;32m      3\u001b[0m   \u001b[0mtest\u001b[0m\u001b[0;34m(\u001b[0m\u001b[0;34m)\u001b[0m\u001b[0;34m\u001b[0m\u001b[0;34m\u001b[0m\u001b[0m\n",
            "\u001b[0;32m<ipython-input-22-853488e9b72d>\u001b[0m in \u001b[0;36mtrain\u001b[0;34m(epoch)\u001b[0m\n\u001b[1;32m      6\u001b[0m     \u001b[0moutput\u001b[0m \u001b[0;34m=\u001b[0m \u001b[0mmodel\u001b[0m\u001b[0;34m(\u001b[0m\u001b[0mdata\u001b[0m\u001b[0;34m)\u001b[0m\u001b[0;34m\u001b[0m\u001b[0;34m\u001b[0m\u001b[0m\n\u001b[1;32m      7\u001b[0m     \u001b[0mloss\u001b[0m \u001b[0;34m=\u001b[0m \u001b[0mloss_fn\u001b[0m\u001b[0;34m(\u001b[0m\u001b[0moutput\u001b[0m\u001b[0;34m,\u001b[0m \u001b[0mtargets\u001b[0m\u001b[0;34m)\u001b[0m\u001b[0;34m\u001b[0m\u001b[0;34m\u001b[0m\u001b[0m\n\u001b[0;32m----> 8\u001b[0;31m     \u001b[0mloss\u001b[0m\u001b[0;34m.\u001b[0m\u001b[0mbackward\u001b[0m\u001b[0;34m(\u001b[0m\u001b[0;34m)\u001b[0m\u001b[0;34m\u001b[0m\u001b[0;34m\u001b[0m\u001b[0m\n\u001b[0m\u001b[1;32m      9\u001b[0m     \u001b[0moptimizer\u001b[0m\u001b[0;34m.\u001b[0m\u001b[0mstep\u001b[0m\u001b[0;34m(\u001b[0m\u001b[0;34m)\u001b[0m\u001b[0;34m\u001b[0m\u001b[0;34m\u001b[0m\u001b[0m\n\u001b[1;32m     10\u001b[0m     \u001b[0;32mif\u001b[0m \u001b[0mbatch_idx\u001b[0m \u001b[0;34m%\u001b[0m \u001b[0;36m20\u001b[0m \u001b[0;34m==\u001b[0m \u001b[0;36m0\u001b[0m\u001b[0;34m:\u001b[0m\u001b[0;34m\u001b[0m\u001b[0;34m\u001b[0m\u001b[0m\n",
            "\u001b[0;32m/usr/local/lib/python3.11/dist-packages/torch/_tensor.py\u001b[0m in \u001b[0;36mbackward\u001b[0;34m(self, gradient, retain_graph, create_graph, inputs)\u001b[0m\n\u001b[1;32m    624\u001b[0m                 \u001b[0minputs\u001b[0m\u001b[0;34m=\u001b[0m\u001b[0minputs\u001b[0m\u001b[0;34m,\u001b[0m\u001b[0;34m\u001b[0m\u001b[0;34m\u001b[0m\u001b[0m\n\u001b[1;32m    625\u001b[0m             )\n\u001b[0;32m--> 626\u001b[0;31m         torch.autograd.backward(\n\u001b[0m\u001b[1;32m    627\u001b[0m             \u001b[0mself\u001b[0m\u001b[0;34m,\u001b[0m \u001b[0mgradient\u001b[0m\u001b[0;34m,\u001b[0m \u001b[0mretain_graph\u001b[0m\u001b[0;34m,\u001b[0m \u001b[0mcreate_graph\u001b[0m\u001b[0;34m,\u001b[0m \u001b[0minputs\u001b[0m\u001b[0;34m=\u001b[0m\u001b[0minputs\u001b[0m\u001b[0;34m\u001b[0m\u001b[0;34m\u001b[0m\u001b[0m\n\u001b[1;32m    628\u001b[0m         )\n",
            "\u001b[0;32m/usr/local/lib/python3.11/dist-packages/torch/autograd/__init__.py\u001b[0m in \u001b[0;36mbackward\u001b[0;34m(tensors, grad_tensors, retain_graph, create_graph, grad_variables, inputs)\u001b[0m\n\u001b[1;32m    345\u001b[0m     \u001b[0;31m# some Python versions print out the first line of a multi-line function\u001b[0m\u001b[0;34m\u001b[0m\u001b[0;34m\u001b[0m\u001b[0m\n\u001b[1;32m    346\u001b[0m     \u001b[0;31m# calls in the traceback and some print out the last line\u001b[0m\u001b[0;34m\u001b[0m\u001b[0;34m\u001b[0m\u001b[0m\n\u001b[0;32m--> 347\u001b[0;31m     _engine_run_backward(\n\u001b[0m\u001b[1;32m    348\u001b[0m         \u001b[0mtensors\u001b[0m\u001b[0;34m,\u001b[0m\u001b[0;34m\u001b[0m\u001b[0;34m\u001b[0m\u001b[0m\n\u001b[1;32m    349\u001b[0m         \u001b[0mgrad_tensors_\u001b[0m\u001b[0;34m,\u001b[0m\u001b[0;34m\u001b[0m\u001b[0;34m\u001b[0m\u001b[0m\n",
            "\u001b[0;32m/usr/local/lib/python3.11/dist-packages/torch/autograd/graph.py\u001b[0m in \u001b[0;36m_engine_run_backward\u001b[0;34m(t_outputs, *args, **kwargs)\u001b[0m\n\u001b[1;32m    821\u001b[0m         \u001b[0munregister_hooks\u001b[0m \u001b[0;34m=\u001b[0m \u001b[0m_register_logging_hooks_on_whole_graph\u001b[0m\u001b[0;34m(\u001b[0m\u001b[0mt_outputs\u001b[0m\u001b[0;34m)\u001b[0m\u001b[0;34m\u001b[0m\u001b[0;34m\u001b[0m\u001b[0m\n\u001b[1;32m    822\u001b[0m     \u001b[0;32mtry\u001b[0m\u001b[0;34m:\u001b[0m\u001b[0;34m\u001b[0m\u001b[0;34m\u001b[0m\u001b[0m\n\u001b[0;32m--> 823\u001b[0;31m         return Variable._execution_engine.run_backward(  # Calls into the C++ engine to run the backward pass\n\u001b[0m\u001b[1;32m    824\u001b[0m             \u001b[0mt_outputs\u001b[0m\u001b[0;34m,\u001b[0m \u001b[0;34m*\u001b[0m\u001b[0margs\u001b[0m\u001b[0;34m,\u001b[0m \u001b[0;34m**\u001b[0m\u001b[0mkwargs\u001b[0m\u001b[0;34m\u001b[0m\u001b[0;34m\u001b[0m\u001b[0m\n\u001b[1;32m    825\u001b[0m         )  # Calls into the C++ engine to run the backward pass\n",
            "\u001b[0;31mKeyboardInterrupt\u001b[0m: "
          ]
        }
      ]
    },
    {
      "cell_type": "code",
      "source": [
        "import matplotlib.pyplot as plt\n",
        "\n",
        "model.eval()\n",
        "\n",
        "data, target = test_data[876]\n",
        "\n",
        "data = data.unsqueeze(0).to(device)\n",
        "output = model(data)\n",
        "\n",
        "prediction = output.argmax(1, keepdim=True).item()\n",
        "\n",
        "print(f'Prediction: {prediction}')\n",
        "\n",
        "# Squeeze the channel dimension before plotting\n",
        "plt.imshow(data.squeeze(0).squeeze(0).cpu().numpy(), cmap='gray')\n",
        "\n",
        "plt.show()"
      ],
      "metadata": {
        "colab": {
          "base_uri": "https://localhost:8080/",
          "height": 447
        },
        "id": "3C9dFgbYb9XZ",
        "outputId": "ae699191-46b3-49ff-f11c-d84da53b906f"
      },
      "execution_count": 29,
      "outputs": [
        {
          "output_type": "stream",
          "name": "stdout",
          "text": [
            "Prediction: 8\n"
          ]
        },
        {
          "output_type": "display_data",
          "data": {
            "text/plain": [
              "<Figure size 640x480 with 1 Axes>"
            ],
            "image/png": "[encoded data removed]"
          },
          "metadata": {}
        }
      ]
    }
  ]
}